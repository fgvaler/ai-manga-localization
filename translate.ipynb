{
 "cells": [
  {
   "cell_type": "markdown",
   "metadata": {},
   "source": [
    "Given input text in source language, identify terminology and dialogue styles"
   ]
  },
  {
   "cell_type": "code",
   "execution_count": 7,
   "metadata": {},
   "outputs": [],
   "source": [
    "source_text = \"\"\n",
    "with open(\"example.txt\", \"r\") as file:\n",
    "    for line in file:\n",
    "        source_text += line.strip()\n",
    "        source_text += '\\n'"
   ]
  },
  {
   "cell_type": "code",
   "execution_count": 8,
   "metadata": {},
   "outputs": [
    {
     "name": "stderr",
     "output_type": "stream",
     "text": [
      "/Users/freyazhu/Library/Caches/pypoetry/virtualenvs/ragathon-manga-B9HQ1W9C-py3.11/lib/python3.11/site-packages/tqdm/auto.py:21: TqdmWarning: IProgress not found. Please update jupyter and ipywidgets. See https://ipywidgets.readthedocs.io/en/stable/user_install.html\n",
      "  from .autonotebook import tqdm as notebook_tqdm\n",
      "tokenizer_config.json: 100%|██████████| 29.0/29.0 [00:00<00:00, 10.9kB/s]\n",
      "vocab.txt: 100%|██████████| 110k/110k [00:00<00:00, 1.17MB/s]\n",
      "tokenizer.json: 100%|██████████| 269k/269k [00:00<00:00, 1.46MB/s]\n",
      "config.json: 100%|██████████| 624/624 [00:00<00:00, 2.40MB/s]\n",
      "config.json: 100%|██████████| 3.71k/3.71k [00:00<00:00, 13.3MB/s]\n",
      "pytorch_model.bin: 100%|██████████| 407M/407M [00:55<00:00, 7.37MB/s] \n"
     ]
    }
   ],
   "source": [
    "from transformers import (\n",
    "   BertTokenizerFast,\n",
    "   AutoModelForTokenClassification,\n",
    ")\n",
    "\n",
    "# nlp task model\n",
    "tokenizer = BertTokenizerFast.from_pretrained('bert-base-chinese')\n",
    "model = AutoModelForTokenClassification.from_pretrained('ckiplab/bert-base-chinese-ner')"
   ]
  },
  {
   "cell_type": "code",
   "execution_count": 12,
   "metadata": {},
   "outputs": [],
   "source": [
    "def num_tokens(text: str) -> int:\n",
    "    \"\"\"Return the number of tokens in a string.\"\"\"\n",
    "    tokens = tokenizer.tokenize(text)\n",
    "    num_tokens = len(tokens)\n",
    "    return num_tokens"
   ]
  },
  {
   "cell_type": "code",
   "execution_count": null,
   "metadata": {},
   "outputs": [],
   "source": [
    "terminologyDict = {} # map of terms from source language to preferred translation\n",
    "\n",
    "# chunk the source text into max of 512 tokens\n",
    "chunks = []\n",
    "\n",
    "chunk = \"\"\n",
    "current_token_count = 0\n",
    "for line in source_text.split('\\n'):\n",
    "    if num_tokens(chunk) + num_tokens(line) < 512:\n",
    "        chunk += line + '\\n'\n",
    "    else:\n",
    "        chunks.append(chunk)\n",
    "        chunk = line\n",
    "\n",
    "# get the named entities\n",
    "inputs = tokenizer(source_text, return_tensors=\"pt\", padding=True)\n",
    "outputs = model(**inputs)\n",
    "predicted_token_ids = outputs.logits.argmax(-1)\n",
    "predicted_text = tokenizer.decode(predicted_token_ids[0])"
   ]
  },
  {
   "cell_type": "code",
   "execution_count": null,
   "metadata": {},
   "outputs": [],
   "source": [
    "characterDict = {} # map of characters and description of speech style"
   ]
  }
 ],
 "metadata": {
  "kernelspec": {
   "display_name": "manga-kernel",
   "language": "python",
   "name": "manga-kernel"
  },
  "language_info": {
   "codemirror_mode": {
    "name": "ipython",
    "version": 3
   },
   "file_extension": ".py",
   "mimetype": "text/x-python",
   "name": "python",
   "nbconvert_exporter": "python",
   "pygments_lexer": "ipython3",
   "version": "3.11.7"
  }
 },
 "nbformat": 4,
 "nbformat_minor": 2
}
