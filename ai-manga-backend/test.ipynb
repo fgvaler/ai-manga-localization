{
 "cells": [
  {
   "cell_type": "code",
   "execution_count": 6,
   "metadata": {},
   "outputs": [
    {
     "name": "stdout",
     "output_type": "stream",
     "text": [
      "data: Introduction\n",
      "\n",
      "\n",
      "\n",
      "\n",
      "data: I, Chitaro Johara, am a liar.\n",
      "\n",
      "\n",
      "\n",
      "data: I always hide my empty self deep within, wearing the masks of others to get through each day.\n",
      "\n",
      "\n",
      "\n",
      "data: However, one day, my high school life was disrupted by the cute little devil of a junior, Shizuku Kirino.\n",
      "\n",
      "\n",
      "\n",
      "data: As a \"film director,\" Shizuku involved me in her independent film project with the reasoning that \"Lies are the beginning of an actor!\"\n",
      "\n",
      "\n",
      "\n",
      "data: And what she eagerly wanted to film was me playing a \"super handsome character\"!?\n",
      "\n",
      "\n",
      "\n",
      "\n",
      "data: Moreover, the popular girl in class—the straightforward actress Sakura, and the leader in sports, Ishida, also joined the team, and the filming began.\n",
      "\n",
      "\n",
      "\n",
      "data: But, due to a certain issue, the movie production faced difficulties.\n",
      "\n",
      "\n",
      "\n",
      "data: Behind it all was the hidden emotions of Shizuku—?\n",
      "\n",
      "\n"
     ]
    }
   ],
   "source": [
    "import requests\n",
    "import json\n",
    "\n",
    "url = \"http://localhost:8000/translate/\"\n",
    "text = \"\"\"简介\n",
    "\n",
    "我，城原千太郎是个骗子。\n",
    "我总是把空虚的自己藏在心底，戴上他人的面具过着每一天。\n",
    "然而某天，这样的高中生活被可爱的小恶魔学妹·雾乃雫打破了。\n",
    "『电影导演』的雾乃以「说谎是演员的开始！」为由，将我卷入了自主制作的电影之中。\n",
    "而且她满脸期待地想要拍摄的，居然是由我扮演的「超级帅气角色」！？\n",
    "\n",
    "此外，班上的人气女生——性格直率的女演员樱，以及体育方面的领袖人物石田也加入了团队，拍摄随之开始。\n",
    "但是，由于某个问题，电影制作遇到了困难。\n",
    "在其背后是雾乃深藏着的感情——？\"\"\"\n",
    "\n",
    "payload = { \"text\": text }\n",
    "headers = {'Content-Type': 'application/json'}\n",
    "\n",
    "with requests.post(url, data=json.dumps(payload), headers=headers, stream=True) as r:\n",
    "    for chunk in r.iter_content(None, decode_unicode=True):\n",
    "        if chunk:\n",
    "            print(chunk)"
   ]
  },
  {
   "cell_type": "code",
   "execution_count": null,
   "metadata": {},
   "outputs": [],
   "source": []
  }
 ],
 "metadata": {
  "kernelspec": {
   "display_name": "manga-kernel",
   "language": "python",
   "name": "manga-kernel"
  },
  "language_info": {
   "codemirror_mode": {
    "name": "ipython",
    "version": 3
   },
   "file_extension": ".py",
   "mimetype": "text/x-python",
   "name": "python",
   "nbconvert_exporter": "python",
   "pygments_lexer": "ipython3",
   "version": "3.11.7"
  }
 },
 "nbformat": 4,
 "nbformat_minor": 2
}
